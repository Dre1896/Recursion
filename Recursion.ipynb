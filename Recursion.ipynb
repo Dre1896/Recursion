{
 "cells": [
  {
   "cell_type": "markdown",
   "metadata": {},
   "source": [
    "## Recursive Sum of Integers"
   ]
  },
  {
   "cell_type": "code",
   "execution_count": 1,
   "metadata": {
    "collapsed": true
   },
   "outputs": [],
   "source": [
    "def recSumFirstN(n):\n",
    "    if n == 0:\n",
    "        return 0\n",
    "    \n",
    "    return recSumFirstN(n - 1) + n"
   ]
  },
  {
   "cell_type": "code",
   "execution_count": 2,
   "metadata": {},
   "outputs": [
    {
     "data": {
      "text/plain": [
       "15"
      ]
     },
     "execution_count": 2,
     "metadata": {},
     "output_type": "execute_result"
    }
   ],
   "source": [
    "recSumFirstN(5)"
   ]
  },
  {
   "cell_type": "code",
   "execution_count": 4,
   "metadata": {},
   "outputs": [
    {
     "name": "stdout",
     "output_type": "stream",
     "text": [
      "Please enter a non-negative integer: 3\n",
      "The sum of the first 3 integers is 6.\n"
     ]
    }
   ],
   "source": [
    "def recSumFirstN(n):\n",
    "    if n == 0:\n",
    "        return 0\n",
    "    \n",
    "    else:\n",
    "        return recSumFirstN(n - 1) + n\n",
    "    \n",
    "def main():\n",
    "    x = int(input(\"Please enter a non-negative integer: \"))\n",
    "    \n",
    "    s = recSumFirstN(x)\n",
    "    \n",
    "    print(\"The sum of the first\", x, \"integers is\", str(s) + \".\")\n",
    "    \n",
    "if __name__ == \"__main__\":\n",
    "    main()"
   ]
  },
  {
   "cell_type": "markdown",
   "metadata": {},
   "source": [
    "## Recursive Spiral"
   ]
  },
  {
   "cell_type": "code",
   "execution_count": 7,
   "metadata": {
    "collapsed": true
   },
   "outputs": [],
   "source": [
    "import turtle\n",
    "\n",
    "def drawSpiral(t, length, color, colorBase):\n",
    "    # color refers to a 24 bit value which will change\n",
    "    # each time for a new color effect\n",
    "    if length == 0:\n",
    "        return\n",
    "    \n",
    "    # we add 2^10 to the previous color mod 2^24\n",
    "    # this mod prevents the color from expanding too much\n",
    "    \n",
    "    newcolor = (int(color[1:], 16) + 2**10) % (2**24)\n",
    "    \n",
    "    # find the color base integer value\n",
    "    base = int(colorBase[1:], 16)\n",
    "    \n",
    "    # if the color < base, add the base modul 2^24\n",
    "    if newcolor < base:\n",
    "        newcolor = (newcolor + base)%(2**24)\n",
    "        \n",
    "    # let newcolor be the hex string after conversion.\n",
    "    newcolor = hex(newcolor)[2:]\n",
    "    \n",
    "    newcolor = \"#\"+(\"0\"*(6-len(newcolor))) + newcolor\n",
    "    \n",
    "    t.color(newcolor)\n",
    "    t.forward(length)\n",
    "    t.left(90)\n",
    "    \n",
    "    drawSpiral(t, length - 1, newcolor, colorBase)\n",
    "    \n",
    "def main():\n",
    "    t = turtle.Turtle()\n",
    "    screen = t.getscreen()\n",
    "    t.speed(100)\n",
    "    t.penup()\n",
    "    t.goto(-100, -100)\n",
    "    t.pendown()\n",
    "    \n",
    "    drawSpiral(t, 200, \"#000000\", \"#ff00ff\")\n",
    "    \n",
    "    screen.exitonclick()"
   ]
  },
  {
   "cell_type": "markdown",
   "metadata": {},
   "source": [
    "## Recursion on Lists and Strings"
   ]
  },
  {
   "cell_type": "code",
   "execution_count": 8,
   "metadata": {},
   "outputs": [
    {
     "name": "stdout",
     "output_type": "stream",
     "text": [
      "[4, 3, 2, 1]\n"
     ]
    }
   ],
   "source": [
    "## List Recursion\n",
    "def revList(lst):\n",
    "    accumulator = []\n",
    "    for x in lst:\n",
    "        accumulator = [x] + accumulator\n",
    "        \n",
    "    return accumulator\n",
    "\n",
    "def main():\n",
    "    print(revList([1, 2, 3, 4]))\n",
    "    \n",
    "if __name__ == \"__main__\":\n",
    "    main()"
   ]
  },
  {
   "cell_type": "markdown",
   "metadata": {},
   "source": [
    "## Reversing a List"
   ]
  },
  {
   "cell_type": "code",
   "execution_count": 9,
   "metadata": {},
   "outputs": [
    {
     "name": "stdout",
     "output_type": "stream",
     "text": [
      "[4, 3, 2, 1]\n"
     ]
    }
   ],
   "source": [
    "def revList(lst):\n",
    "    # base case comes first\n",
    "    if lst == []:\n",
    "        return []\n",
    "    \n",
    "    # the remaining function will be recursive\n",
    "    restrev = revList(lst[1:])\n",
    "    first = lst[0:1]\n",
    "    \n",
    "    # Now put the pieces together.\n",
    "    result = restrev + first\n",
    "    \n",
    "    return result\n",
    "\n",
    "def main():\n",
    "    print(revList([1, 2, 3, 4]))\n",
    "    \n",
    "if __name__ == \"__main__\":\n",
    "    main()"
   ]
  },
  {
   "cell_type": "markdown",
   "metadata": {},
   "source": [
    "## Reversing a String"
   ]
  },
  {
   "cell_type": "code",
   "execution_count": 10,
   "metadata": {},
   "outputs": [
    {
     "name": "stdout",
     "output_type": "stream",
     "text": [
      "olleh\n"
     ]
    }
   ],
   "source": [
    "def revString(s):\n",
    "    if s == \"\":\n",
    "        return \"\"\n",
    "    \n",
    "    restrev = revString(s[1:])\n",
    "    first = s[0:1]\n",
    "    result = restrev + first\n",
    "    \n",
    "    return result\n",
    "\n",
    "def main():\n",
    "    print(revString(\"hello\"))\n",
    "    \n",
    "if __name__ == \"__main__\":\n",
    "    main()"
   ]
  },
  {
   "cell_type": "markdown",
   "metadata": {},
   "source": [
    "## Reflection Reverse"
   ]
  },
  {
   "cell_type": "code",
   "execution_count": 13,
   "metadata": {},
   "outputs": [],
   "source": [
    "def reverse(seq):\n",
    "    SeqType = type(seq)\n",
    "    emptySeq = SeqType()\n",
    "    \n",
    "    if seq == emptySeq:\n",
    "        return emptySeq\n",
    "\n",
    "    restrev = reverse(seq[1:])\n",
    "    first = seq[0:1]\n",
    "\n",
    "    # combine the components\n",
    "    result = restrev + first\n",
    "\n",
    "    return result\n",
    "\n",
    "    def main():\n",
    "        print(reverse([1, 2, 3, 4]))\n",
    "        print(reverse(\"hello\"))\n",
    "    \n",
    "    if __name__ == \"__main__\":\n",
    "        main()"
   ]
  },
  {
   "cell_type": "code",
   "execution_count": 14,
   "metadata": {},
   "outputs": [
    {
     "data": {
      "text/plain": [
       "'nusobnutalO epoluloT'"
      ]
     },
     "execution_count": 14,
     "metadata": {},
     "output_type": "execute_result"
    }
   ],
   "source": [
    "reverse(\"Tolulope Olatunbosun\")"
   ]
  },
  {
   "cell_type": "markdown",
   "metadata": {},
   "source": [
    "## Recursion main takeaways:\n",
    "\n",
    "1. Figure the name of the function and the arguments that must be passed to it to complete its work as well as what the value the function should return is\n",
    "\n",
    "2. Just like proofs, establish the base case for the recursive function first. Generally an if statement that handles a clear case in the recursive function by returning a value\n",
    "\n",
    "3. You have to call the function recursively with an argument or arguments that are smaller in some ways than the parameters that were passed to the function when the previous call was made. The argument(s) which get smaller are the same argument(s) you established in the base case.\n",
    "\n",
    "4. Check out solid example and pick some values to try out with the recursive function. Be sure that the last step of the recursive call works and use that result from the recursive call and use it to form the result you want your function to return. "
   ]
  },
  {
   "cell_type": "code",
   "execution_count": null,
   "metadata": {
    "collapsed": true
   },
   "outputs": [],
   "source": []
  }
 ],
 "metadata": {
  "kernelspec": {
   "display_name": "Python 3",
   "language": "python",
   "name": "python3"
  },
  "language_info": {
   "codemirror_mode": {
    "name": "ipython",
    "version": 3
   },
   "file_extension": ".py",
   "mimetype": "text/x-python",
   "name": "python",
   "nbconvert_exporter": "python",
   "pygments_lexer": "ipython3",
   "version": "3.6.2"
  }
 },
 "nbformat": 4,
 "nbformat_minor": 2
}
